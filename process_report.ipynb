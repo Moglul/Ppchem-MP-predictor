{
 "cells": [
  {
   "cell_type": "markdown",
   "metadata": {},
   "source": [
    "# PPCHEM Project, Ricardo Meireles & Malo Gfeller\n",
    "\n",
    "In this project, the aim was to create a melting point prediction model and an interface for using the model. The motivations behind this idea are to develop our skills in data science, which is a very valuable skill for the years to come, and to learn how to make a project usable through an interface, as the UX of a tool can sometimes be an obstacle for some of our future collaborators who won't be coding."
   ]
  },
  {
   "cell_type": "markdown",
   "metadata": {},
   "source": [
    "## Data collection\n",
    "\n",
    "In order to recover numerous smiles-melting point pairs, 2 methods were available to us. Use existing datasets or create our own by webscrapping. The latter method makes it difficult to verify sources, which is why we ended up using bradleymeltingpoint dataset, a standard in the field. Scraping the pubchem data will enable us to evaluate the model, albeit less rigorously, but still useful for identifying sources of error of the model predictions."
   ]
  },
  {
   "cell_type": "markdown",
   "metadata": {},
   "source": [
    "## Create the model\n",
    "\n",
    "Initially, a scaled-down version of the bradleymeltingpoint dataset was used to familiarize ourselves with the different methods, while keeping calculation times short. By experimenting and evaluating different models and descriptors, the “moleculAR” folder functions were created. We plan to add new functions and make it pip installable. An example of how to use these functions is available in the “EXAMPLE” notebook.\n",
    "After experimenting with several descriptors and models using the BradleyMeltingPoint dataset, a RandomForest with the 200 rdkit descriptors proved the most successful. We would have liked to see the performance of models with the 1800+ mordred descriptors, but our computers couldn't handle the computation of all the descriptors without overloading, and the same was true in googlecolab (free version).\n",
    "\n",
    "Further research led us to the Chemprop GitHub repository. We tested their MPNN with default parameters on our dataset, and it turned out to be the most successful model. Subsequently, we experimented with various modifications, and incorporating RDKit descriptors showed beneficial for performance. We also tried an ensemble of three models, but no significant improvement in performance was observed.\n",
    "\n",
    "**A summary of the model creation process can be found in the \"model_selection\" notebook.**"
   ]
  },
  {
   "cell_type": "markdown",
   "metadata": {},
   "source": []
  }
 ],
 "metadata": {
  "language_info": {
   "name": "python"
  }
 },
 "nbformat": 4,
 "nbformat_minor": 2
}
