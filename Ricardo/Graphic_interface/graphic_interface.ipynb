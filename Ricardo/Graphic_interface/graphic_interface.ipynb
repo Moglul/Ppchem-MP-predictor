{
 "cells": [
  {
   "cell_type": "code",
   "execution_count": 14,
   "id": "02a29b28-a562-4a9d-95e0-21545e821451",
   "metadata": {},
   "outputs": [],
   "source": [
    "import tkinter as tk\n",
    "\n",
    "def on_button_click():\n",
    "    label.config(text=\"Hello, \" + entry.get())\n",
    "\n",
    "# Creation of the window\n",
    "window = tk.Tk()\n",
    "window.title(\"Interface for melting point\")\n",
    "\n",
    "# Ajouter des composants\n",
    "label = tk.Label(window, text=\"Entrez votre nom :\")\n",
    "label.pack()\n",
    "\n",
    "entry = tk.Entry(window)\n",
    "entry.pack()\n",
    "\n",
    "button = tk.Button(window, text=\"Valider\", command=on_button_click)\n",
    "button.pack()\n",
    "\n",
    "# Lancer la boucle principale\n",
    "window.mainloop()\n"
   ]
  },
  {
   "cell_type": "code",
   "execution_count": null,
   "id": "df029e74-ab76-4ab2-b3cd-84d3dba2e968",
   "metadata": {},
   "outputs": [],
   "source": []
  }
 ],
 "metadata": {
  "kernelspec": {
   "display_name": "Python 3 (ipykernel)",
   "language": "python",
   "name": "python3"
  },
  "language_info": {
   "codemirror_mode": {
    "name": "ipython",
    "version": 3
   },
   "file_extension": ".py",
   "mimetype": "text/x-python",
   "name": "python",
   "nbconvert_exporter": "python",
   "pygments_lexer": "ipython3",
   "version": "3.10.13"
  }
 },
 "nbformat": 4,
 "nbformat_minor": 5
}
