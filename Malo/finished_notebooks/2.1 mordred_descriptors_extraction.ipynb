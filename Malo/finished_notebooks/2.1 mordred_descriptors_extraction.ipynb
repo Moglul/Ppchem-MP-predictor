{
 "cells": [
  {
   "cell_type": "code",
   "execution_count": null,
   "id": "f41d24a5-0006-4edc-9f87-543bf26b7700",
   "metadata": {},
   "outputs": [],
   "source": [
    "from rdkit.Chem import AllChem\n",
    "from rdkit import Chem\n",
    "from rdkit.Chem import Descriptors\n",
    "from rdkit.ML.Descriptors import MoleculeDescriptors\n",
    "from mordred import Calculator, descriptors"
   ]
  },
  {
   "cell_type": "markdown",
   "id": "c3201f65-7473-4de7-a94e-acc86780454a",
   "metadata": {},
   "source": [
    "#### The following code compute all mordred descriptors for each molecules of the dataset, as it takes a long time to run, it has been done in GoogleColab and the results are in the \"NAME FILE\""
   ]
  },
  {
   "cell_type": "code",
   "execution_count": null,
   "id": "6bb559d5-2070-4784-891b-c4a7c89dfa14",
   "metadata": {},
   "outputs": [],
   "source": [
    "\"\"\"\"\"\n",
    "# Calculating all mordred descriptors (! long to run)\n",
    "\n",
    "def All_Mordred_descriptors(data):\n",
    "    calc = Calculator(descriptors, ignore_3D=False)\n",
    "    mols = [Chem.MolFromSmiles(smi) for smi in data]\n",
    "    \n",
    "    # pandas df\n",
    "    df = calc.pandas(mols)\n",
    "    return df\n",
    "\n",
    "mordred_descriptors = All_Mordred_descriptors(cleaned_df['smiles'])\n",
    "\"\"\"\"\"\""
   ]
  }
 ],
 "metadata": {
  "kernelspec": {
   "display_name": "Python 3 (ipykernel)",
   "language": "python",
   "name": "python3"
  },
  "language_info": {
   "codemirror_mode": {
    "name": "ipython",
    "version": 3
   },
   "file_extension": ".py",
   "mimetype": "text/x-python",
   "name": "python",
   "nbconvert_exporter": "python",
   "pygments_lexer": "ipython3",
   "version": "3.10.13"
  }
 },
 "nbformat": 4,
 "nbformat_minor": 5
}
