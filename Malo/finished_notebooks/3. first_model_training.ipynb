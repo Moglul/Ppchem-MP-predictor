{
 "cells": [
  {
   "cell_type": "code",
   "execution_count": 1,
   "id": "305af807-dab4-48b2-ad29-cd91432b7ce0",
   "metadata": {},
   "outputs": [],
   "source": [
    "# Needed libraries\n",
    "import pathlib\n",
    "import pandas as pd \n",
    "from matplotlib import pyplot as plt\n",
    "import numpy as np \n",
    "from rdkit import Chem\n",
    "import pandas as pd\n",
    "import pathlib\n",
    "# rdkit libraries needed\n",
    "from rdkit.Chem import AllChem\n",
    "from rdkit import Chem\n",
    "from rdkit.Chem import Descriptors\n",
    "from rdkit.ML.Descriptors import MoleculeDescriptors"
   ]
  },
  {
   "cell_type": "code",
   "execution_count": 3,
   "id": "373c6aab-d11b-4e29-b104-2c511ea0f8f2",
   "metadata": {},
   "outputs": [],
   "source": [
    "from sklearn.model_selection import train_test_split\n",
    "from sklearn.preprocessing import StandardScaler\n",
    "from sklearn.metrics import r2_score, mean_squared_error\n",
    "from lightgbm import LGBMRegressor\n",
    "#----------------------------------\n",
    "import lazypredict\n",
    "from lazypredict.Supervised import LazyRegressor\n",
    "from tqdm import tqdm"
   ]
  },
  {
   "cell_type": "code",
   "execution_count": 2,
   "id": "1597268f-2ddb-41a2-a2c6-c0830931656b",
   "metadata": {},
   "outputs": [],
   "source": [
    "# Set the path for rdkit descriptors file\n",
    "\n",
    "path = pathlib.Path(\"/Users/malogfeller/git/solubility-predictor/Data/200_rdkit_descriptors.xlsx\")\n",
    "df_with_200_descriptors = pd.read_excel(path)\n",
    "\n",
    "# Set the path for final_dataset with smiles and melting point\n",
    "\n",
    "path = pathlib.Path(\"/Users/malogfeller/git/solubility-predictor/Data/melting_point_data.xlsx\")\n",
    "final_dataset = pd.read_excel(path)"
   ]
  },
  {
   "cell_type": "markdown",
   "id": "9875d7f8-a5fd-4c60-9106-5338f6ee6656",
   "metadata": {},
   "source": [
    "## Model and training\n",
    "\n",
    "We have the data and the features of the molecules, we now have to find the best model. We will first import needed libraries "
   ]
  },
  {
   "cell_type": "code",
   "execution_count": 46,
   "id": "876652ef-bcb1-47b9-9244-440e26a4e163",
   "metadata": {},
   "outputs": [
    {
     "name": "stdout",
     "output_type": "stream",
     "text": [
      "Collecting lazypredict\n",
      "  Downloading lazypredict-0.2.12-py2.py3-none-any.whl.metadata (12 kB)\n",
      "Collecting click (from lazypredict)\n",
      "  Downloading click-8.1.7-py3-none-any.whl.metadata (3.0 kB)\n",
      "Requirement already satisfied: scikit-learn in /Users/malogfeller/anaconda3/envs/ppchem/lib/python3.10/site-packages (from lazypredict) (1.2.2)\n",
      "Requirement already satisfied: pandas in /Users/malogfeller/anaconda3/envs/ppchem/lib/python3.10/site-packages (from lazypredict) (2.1.4)\n",
      "Requirement already satisfied: tqdm in /Users/malogfeller/anaconda3/envs/ppchem/lib/python3.10/site-packages (from lazypredict) (4.66.2)\n",
      "Requirement already satisfied: joblib in /Users/malogfeller/anaconda3/envs/ppchem/lib/python3.10/site-packages (from lazypredict) (1.2.0)\n",
      "Collecting lightgbm (from lazypredict)\n",
      "  Downloading lightgbm-4.3.0-py3-none-macosx_10_15_x86_64.macosx_11_6_x86_64.macosx_12_5_x86_64.whl.metadata (19 kB)\n",
      "Collecting xgboost (from lazypredict)\n",
      "  Downloading xgboost-2.0.3-py3-none-macosx_10_15_x86_64.macosx_11_0_x86_64.macosx_12_0_x86_64.whl.metadata (2.0 kB)\n",
      "Requirement already satisfied: numpy in /Users/malogfeller/anaconda3/envs/ppchem/lib/python3.10/site-packages (from lightgbm->lazypredict) (1.26.4)\n",
      "Requirement already satisfied: scipy in /Users/malogfeller/anaconda3/envs/ppchem/lib/python3.10/site-packages (from lightgbm->lazypredict) (1.12.0)\n",
      "Requirement already satisfied: python-dateutil>=2.8.2 in /Users/malogfeller/anaconda3/envs/ppchem/lib/python3.10/site-packages (from pandas->lazypredict) (2.8.2)\n",
      "Requirement already satisfied: pytz>=2020.1 in /Users/malogfeller/anaconda3/envs/ppchem/lib/python3.10/site-packages (from pandas->lazypredict) (2023.3.post1)\n",
      "Requirement already satisfied: tzdata>=2022.1 in /Users/malogfeller/anaconda3/envs/ppchem/lib/python3.10/site-packages (from pandas->lazypredict) (2023.3)\n",
      "Requirement already satisfied: threadpoolctl>=2.0.0 in /Users/malogfeller/anaconda3/envs/ppchem/lib/python3.10/site-packages (from scikit-learn->lazypredict) (2.2.0)\n",
      "Requirement already satisfied: six>=1.5 in /Users/malogfeller/anaconda3/envs/ppchem/lib/python3.10/site-packages (from python-dateutil>=2.8.2->pandas->lazypredict) (1.16.0)\n",
      "Downloading lazypredict-0.2.12-py2.py3-none-any.whl (12 kB)\n",
      "Downloading click-8.1.7-py3-none-any.whl (97 kB)\n",
      "\u001b[2K   \u001b[90m━━━━━━━━━━━━━━━━━━━━━━━━━━━━━━━━━━━━━━━━\u001b[0m \u001b[32m97.9/97.9 kB\u001b[0m \u001b[31m3.6 MB/s\u001b[0m eta \u001b[36m0:00:00\u001b[0m\n",
      "\u001b[?25hDownloading lightgbm-4.3.0-py3-none-macosx_10_15_x86_64.macosx_11_6_x86_64.macosx_12_5_x86_64.whl (1.8 MB)\n",
      "\u001b[2K   \u001b[90m━━━━━━━━━━━━━━━━━━━━━━━━━━━━━━━━━━━━━━━━\u001b[0m \u001b[32m1.8/1.8 MB\u001b[0m \u001b[31m10.8 MB/s\u001b[0m eta \u001b[36m0:00:00\u001b[0m00:01\u001b[0m00:01\u001b[0m\n",
      "\u001b[?25hDownloading xgboost-2.0.3-py3-none-macosx_10_15_x86_64.macosx_11_0_x86_64.macosx_12_0_x86_64.whl (2.2 MB)\n",
      "\u001b[2K   \u001b[90m━━━━━━━━━━━━━━━━━━━━━━━━━━━━━━━━━━━━━━━━\u001b[0m \u001b[32m2.2/2.2 MB\u001b[0m \u001b[31m12.2 MB/s\u001b[0m eta \u001b[36m0:00:00\u001b[0ma \u001b[36m0:00:01\u001b[0m\n",
      "\u001b[?25hInstalling collected packages: click, xgboost, lightgbm, lazypredict\n",
      "Successfully installed click-8.1.7 lazypredict-0.2.12 lightgbm-4.3.0 xgboost-2.0.3\n"
     ]
    }
   ],
   "source": [
    "#!pip install lazypredict"
   ]
  },
  {
   "cell_type": "code",
   "execution_count": 5,
   "id": "b26ed858-176e-494b-9d03-9dae8ffcd355",
   "metadata": {},
   "outputs": [],
   "source": [
    "X_train, X_valid, Y_train, Y_valid = train_test_split(df_with_200_descriptors,\n",
    "                                                      final_dataset.mpC,\n",
    "                                                      test_size=0.4,random_state=42)"
   ]
  },
  {
   "cell_type": "code",
   "execution_count": 6,
   "id": "b541851c-6d2e-4b67-a977-edc425bdf473",
   "metadata": {},
   "outputs": [],
   "source": [
    "# Standardize the features\n",
    "scaler = StandardScaler()\n",
    "scaler.fit(X_train)\n",
    "X_train_scaled = scaler.transform(X_train)\n",
    "X_valid_scaled = scaler.transform(X_valid)"
   ]
  },
  {
   "cell_type": "code",
   "execution_count": 12,
   "id": "f65865c8-8f7d-44f0-9d57-3b8dc6bfb1d0",
   "metadata": {},
   "outputs": [
    {
     "data": {
      "text/plain": [
       "'\\n# https://github.com/shankarpandala/lazypredict\\n# Training of the dataset was achieved using 42 [regressors]\\nlregs = LazyRegressor(verbose=0,ignore_warnings=True, custom_metric=None,random_state=42)\\nmodels, prediction_tests = lregs.fit(X_train_scaled, X_valid_scaled, Y_train, Y_valid)\\n'"
      ]
     },
     "execution_count": 12,
     "metadata": {},
     "output_type": "execute_result"
    }
   ],
   "source": [
    "# code to test 42 models, long to run so already done, \n",
    "# results are in Models_results/models_result_rdkit_descriptors.xlsx\n",
    "\n",
    "\"\"\"\n",
    "# https://github.com/shankarpandala/lazypredict\n",
    "# Training of the dataset was achieved using 42 [regressors]\n",
    "lregs = LazyRegressor(verbose=0,ignore_warnings=True, custom_metric=None,random_state=42)\n",
    "models, prediction_tests = lregs.fit(X_train_scaled, X_valid_scaled, Y_train, Y_valid)\n",
    "\"\"\""
   ]
  }
 ],
 "metadata": {
  "kernelspec": {
   "display_name": "Python 3 (ipykernel)",
   "language": "python",
   "name": "python3"
  },
  "language_info": {
   "codemirror_mode": {
    "name": "ipython",
    "version": 3
   },
   "file_extension": ".py",
   "mimetype": "text/x-python",
   "name": "python",
   "nbconvert_exporter": "python",
   "pygments_lexer": "ipython3",
   "version": "3.10.13"
  }
 },
 "nbformat": 4,
 "nbformat_minor": 5
}
